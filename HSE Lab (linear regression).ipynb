{
 "cells": [
  {
   "cell_type": "code",
   "execution_count": 267,
   "metadata": {},
   "outputs": [],
   "source": [
    "import numpy as np\n",
    "\n",
    "import scipy.linalg as sla\n",
    "\n",
    "import matplotlib.pyplot as plt\n",
    "%matplotlib inline"
   ]
  },
  {
   "cell_type": "markdown",
   "metadata": {},
   "source": [
    "# Лабораторная работа 2\n",
    "\n",
    "## Линейная регрессия"
   ]
  },
  {
   "cell_type": "markdown",
   "metadata": {},
   "source": [
    "### Метод наименьших квадратов: постановка задачи\n",
    "\n",
    "Рассмотрим систему уравнений $Xa = y$, в которой $a$ &mdash; столбец неизвестных. Её можно переписать в векторном виде\n",
    "$$x_1 a_1 + x_2 a_2 + \\ldots + x_k a_k = y,$$\n",
    "где $x_1,\\ldots,x_n$ &mdash; столбцы матрицы $X$. Таким образом, решить исходную систему означает найти линейную комбинацию векторов $x_1,\\ldots,x_n$, равную правой части. Но что делать, если такой линейной комбинации не существует? Геометрически это означает, что вектор $y$ не лежит в подпространстве $U = \\langle x_1,\\ldots, x_k\\rangle$. В этом случае мы можем найти *псевдорешение*: вектор коэффициентов $\\hat{a}$, для которого линейная комбинация $x_1 \\hat{a}_1 + x_2 \\hat{a}_2 + \\ldots + x_k \\hat{a}_k$ хоть и не равна в точности $y$, но является наилучшим приближением &mdash; то есть ближайшей к $y$ точкой $\\hat{y}$ подпространства $U$ (иными словами, ортогональной проекцией $y$ на это подпростанство). Итак, цель наших исканий можно сформулировать двумя эквивалентными способами:\n",
    "\n",
    "1. Найти вектор $\\hat{a}$, для которого длина разности $|X\\hat{a} - y|$ минимальна (отсюда название \"метод наименьших квадратов\");\n",
    "2. Найти ортогональную проекцию $\\hat{y}$ вектора $y$ на подпространство $U$ и представить её в виде $X\\hat{a}$.\n",
    "\n",
    "Далее мы будем предполагать, что векторы $x_1,\\ldots,x_n$ линейно независимы (если нет, то сначала имеет смысл выделить максимальную линейно независимую подсистему).\n",
    "\n",
    "На лекциях было показано, что проекция вектора $y$ на подпространство $U = \\langle x_1,\\ldots, x_k\\rangle$ записывается в виде\n",
    "$$\\hat{y} = X\\left(X^TX\\right)^{-1}X^Ty,$$\n",
    "и, соответственно, искомый вектор $\\hat{a}$ равен\n",
    "$$\\hat{a} = \\left(X^TX\\right)^{-1}X^Ty.$$"
   ]
  },
  {
   "cell_type": "markdown",
   "metadata": {},
   "source": [
    "### Задача линейной регрессии\n",
    "\n",
    "Начнём с примера. Допустим, вы хотите найти зависимость среднего балла S студента ФКН от его роста H, веса W, длины волос L и N &mdash; количества часов, которые он ежедневно посвящает учёбе. Представьте, что мы измерили все эти параметры для $n$ студентов и получили наборы значений $S_1,\\ldots, S_n$, $H_1,\\ldots, H_n$ и так далее.\n",
    "\n",
    "Тут можно подбирать много разных умных моделей, но начать имеет смысл с самой простой, линейной:\n",
    "$$S = a_1H + a_2W + a_3L + a_4N + a_5.$$\n",
    "Конечно, строгой линейной зависимости нет (иначе можно было бы радостно упразднить экзамены), но мы можем попробовать подобрать коэффициенты $a_1, a_2, a_3, a_4, a_5$, для которых отклонение правой части от наблюдаемых было бы наименьшим:\n",
    "$$\\sum_{i=1}^n\\left(S_i - ( a_1H_i + a_2W_i + a_3L_i + a_4N_i + a_5)\\right)^2 \\longrightarrow \\min$$\n",
    "И сразу видно, что мы получили задачу на метод наименьших квадратов! А именно, у нас\n",
    "$$X =\n",
    "\\begin{pmatrix}\n",
    "H_1 & W_1 & L_1 & N_1 & 1\\\\\n",
    "H_2 & W_2 & L_2 & N_2 & 1\\\\\n",
    "\\dots & \\dots & \\dots & \\dots & \\dots \\\\\n",
    "H_n & W_n & L_n & N_n & 1\n",
    "\\end{pmatrix},\\qquad y=\n",
    "\\begin{pmatrix}\n",
    "S_1\\\\ S_2\\\\ \\vdots \\\\ S_n\n",
    "\\end{pmatrix}$$\n",
    "\n",
    "Решая эту задачу с помощью уже известных формул, получаем оценки коэффициентов $\\hat{a}_i$ ($i = 1\\ldots,5$)."
   ]
  },
  {
   "cell_type": "markdown",
   "metadata": {},
   "source": [
    "Теперь проговорим общую постановку задачи линейной регрессии. У нас есть $k$ переменных $x_1,\\ldots,x_k$ (\"регрессоров\"), через которые мы хотим выразить \"объясняемую переменную\" $y$:\n",
    "$$y = a_1x_1 + a_2x_2 + \\ldots + a_kx_k$$\n",
    "Значения всех переменных мы измерили $n$ раз (у $n$ различных объектов, в $n$ различных моментов времени &mdash; это зависит от задачи). Подставим эти данные в предыдущее равенство:\n",
    "$$\\begin{pmatrix}\n",
    "y_1\\\\ y_2 \\\\ \\vdots \\\\ y_n\n",
    "\\end{pmatrix} = \n",
    "a_1\\begin{pmatrix}\n",
    "x_{11} \\\\ x_{21} \\\\ \\vdots \\\\ x_{n1} \\end{pmatrix} + a_2\\begin{pmatrix}\n",
    "x_{12} \\\\ x_{22} \\\\ \\vdots \\\\ x_{n2} \\end{pmatrix} + \\ldots + a_k\\begin{pmatrix}\n",
    "x_{1k} \\\\ x_{2k} \\\\ \\vdots \\\\ x_{nk} \\end{pmatrix}$$\n",
    "(здесь $x_{ij}$ &mdash; это значение $j$-го признака на $i$-м измерении). Это удобно переписать в матричном виде:\n",
    "$$\\begin{pmatrix}\n",
    "x_{11} & x_{12} & \\ldots & x_{1k}\\\\\n",
    "x_{21} & x_{22} & \\ldots & x_{2k}\\\\\n",
    "\\dots & \\dots & \\dots & \\dots\\\\\n",
    "x_{n1} & x_{n2} & \\ldots & x_{nk}\n",
    "\\end{pmatrix} \\cdot\n",
    "\\begin{pmatrix}\n",
    "a_1 \\\\ a_2 \\\\ \\vdots \\\\ a_k\n",
    "\\end{pmatrix} = \n",
    "\\begin{pmatrix}\n",
    "y_1 \\\\ y_2 \\\\ \\vdots \\\\ y_n\n",
    "\\end{pmatrix}$$\n",
    "или коротко $Xa = y$. Поскольку на практике эта система уравнений зачастую не имеет решения (ибо зависимости в жизни редко бывают действительно линейными), методом наименьших квадратов ищется псевдорешение."
   ]
  },
  {
   "cell_type": "markdown",
   "metadata": {},
   "source": [
    "### Оценка качества. Обобщающая способность. Обучение и тест \n",
    "\n",
    "После того, как вы построили регрессию и получили какую-то зависимость объясняемой переменной от регрессоров, настаёт время оценить качество регрессии. Есть много разных функционалов качества; мы пока будем говорить только о самом простом и очевидном из них &mdash; о среднеквадратичной ошибке (mean square error). Она равна\n",
    "$$\\frac1{n}|X\\hat{a} - y|^2 = \\frac1{n}\\sum_{i=1}^n\\left(\\hat{a}_1x_{i1} + \\hat{a}_2x_{i2} + \\ldots + \\hat{a}_kx_{ik} - y_i\\right)^2$$\n",
    "\n",
    "В целом хочется искать модели с наименьшей mean square error на имеющихся данных. Однако слишком фанатичная гонка за минимизацией ошибки может привести к печальным последствиям. Например, если мы приближаем функцию одной переменной по значениям в $n$ точках, то наилучшей с точки зрения этой ошибки моделью будет многочлен $(n-1)$-й степени, для которого эта ошибка будет равна нулю.  Тем не менее, вряд ли истинная зависимость имеет вид многочлена большой степени. Более того, значения вам скорее всего даны с погрешностью, то есть вы подогнали вашу модель под свои зашумлённые данные, но на любых других данных (то есть в других точках) точность, скорее всего, окажется совсем не такой хорошей. Этот эффект называют **переобучением**; говорят также, что **обобщающая способность** модели оказалась скверной.\n",
    "\n",
    "Чтобы не попадать в эту ловушку, данные обычно делят на обучающие (по которым строят модель и оценивают коэффициенты) и тестовые. Лучшей стоит счесть ту модель, для которой значение функционала качества будет меньше."
   ]
  },
  {
   "cell_type": "markdown",
   "metadata": {},
   "source": [
    "### Задание 1. Метод наименьших квадратов (4 балла)"
   ]
  },
  {
   "cell_type": "markdown",
   "metadata": {},
   "source": [
    "Скачайте файлы ``train.txt`` и ``test.txt``. В первом из них находится обучающая выборка, а во втором &mdash; тестовая. Каждый из файлов содержит два столбца чисел, разделённых пробелами: в первом &mdash; $n$ точек (значения аргумента $x$), во втором &mdash; значения некоторой функции $y = f(x)$ в этих точках, искажённые случайным шумом. Ваша задача &mdash; по обучающей выборке подобрать функцию $y = g(x)$, пристойно приближающую неизвестную вам зависимость."
   ]
  },
  {
   "cell_type": "markdown",
   "metadata": {},
   "source": [
    "Загрузим обучающие и тестовые данные (не забудьте ввести правильный путь!)."
   ]
  },
  {
   "cell_type": "code",
   "execution_count": 268,
   "metadata": {},
   "outputs": [],
   "source": [
    "data_train = np.loadtxt('C:/linal/train.txt', delimiter=',')\n",
    "data_test = np.loadtxt('C:/linal/test.txt', delimiter=',')\n"
   ]
  },
  {
   "cell_type": "markdown",
   "metadata": {},
   "source": [
    "Разделим значения $x$ и $y$"
   ]
  },
  {
   "cell_type": "code",
   "execution_count": 269,
   "metadata": {},
   "outputs": [],
   "source": [
    "x_train = data_train[:,0]\n",
    "y_train = data_train[:,1]\n",
    "\n",
    "x_test = data_test[:,0]\n",
    "y_test = data_test[:,1]\n"
   ]
  },
  {
   "cell_type": "markdown",
   "metadata": {},
   "source": [
    "Найдите с помощью метода наименьших квадратов линейную функцию ($y = kx + b$), наилучшим образом приближающую неизвестную зависимость. Полезные функции: ``numpy.ones(n)`` для создания массива из единиц длины $n$ и ``numpy.concatenate((А, В), axis=1)`` для слияния двух матриц по столбцам (пара ``А`` и ``В`` превращается в матрицу ``[A B]``)."
   ]
  },
  {
   "cell_type": "code",
   "execution_count": 270,
   "metadata": {},
   "outputs": [
    {
     "name": "stdout",
     "output_type": "stream",
     "text": [
      "y = 2.2791344980519463x + 4.433230905064935\n"
     ]
    }
   ],
   "source": [
    "A = np.array([[x_train[i], 1]for i in range(len(x_train))])\n",
    "#print(A)\n",
    "a = A.T.dot(A)\n",
    "a = sla.inv(a)\n",
    "a = a.dot(A.T)\n",
    "a = a.dot(y_train)\n",
    "b = y_train\n",
    "k = a[0]\n",
    "b = a[1]\n",
    "\n",
    "print(\"y = {}x + {}\".format(k,b))"
   ]
  },
  {
   "cell_type": "markdown",
   "metadata": {},
   "source": [
    "Нарисуйте на плоскости точки $(x_i, y_i)$ и полученную линейную функцию. Глядя на данные, подумайте, многочленом какой степени можно было бы лучше всего приблизить эту функцию. Найдите этот многочлен и нарисуйте его график."
   ]
  },
  {
   "cell_type": "code",
   "execution_count": 271,
   "metadata": {},
   "outputs": [
    {
     "data": {
      "text/plain": [
       "<matplotlib.legend.Legend at 0x238ceb293c8>"
      ]
     },
     "execution_count": 271,
     "metadata": {},
     "output_type": "execute_result"
    },
    {
     "data": {
      "image/png": "[encoded data removed]",
      "text/plain": [
       "<Figure size 432x288 with 1 Axes>"
      ]
     },
     "metadata": {
      "needs_background": "light"
     },
     "output_type": "display_data"
    }
   ],
   "source": [
    "new_val = [(k*i + b)for i in x_test] \n",
    "plt.plot(x_train, y_train, 'go', label = \"train\")\n",
    "plt.plot(x_test, y_test, 'ro', label = \"test\")\n",
    "plt.plot(x_test, new_val, 'blue', label = \"function\")\n",
    "plt.legend()"
   ]
  },
  {
   "cell_type": "markdown",
   "metadata": {},
   "source": [
    "Для $k = 1,2,3,\\ldots,10$ найдите многочлен $\\hat{f}_k$ степени $k$, наилучшим образом приближающий неизвестную зависимость. Для каждого из них найдите среднеквадратическую ошибку на обучающих данных и на тестовых данных: $\\frac1{n}\\sum_{i=1}^n\\left( \\hat{f}_k(x_i) - y_i \\right)^2$ (в первом случае сумма ведётся по парам $(x_i, y_i)$ из обучающих данных, а во втором - по парам из тестовых данных).\n",
    "\n",
    "Для $k = 1,2,3,4,6$ напечатайте коэффициенты полученных многочленов и нарисуйте их графики на одном чертеже вместе с точками $(x_i, y_i)$ (возможно, график стоит сделать побольше; это делается командой `plt.figure(figsize=(width, height))`)."
   ]
  },
  {
   "cell_type": "code",
   "execution_count": 272,
   "metadata": {},
   "outputs": [
    {
     "name": "stdout",
     "output_type": "stream",
     "text": [
      "Степень многочлена: 1\n",
      "Коэфиценты многочлена:\n",
      "[2.2791345  4.43323091]\n",
      "Ошибка на train: 0.29689663326251964\n",
      "Ошибка на test: 0.4351202004048878\n",
      "Степень многочлена: 2\n",
      "Коэфиценты многочлена:\n",
      "[1.40162851 1.15783169 4.4724765 ]\n",
      "Ошибка на train: 0.2696989158766912\n",
      "Ошибка на test: 0.3564762887831171\n",
      "Степень многочлена: 3\n",
      "Коэфиценты многочлена:\n",
      "[-0.3817686   1.85975084  1.06501611  4.46073636]\n",
      "Ошибка на train: 0.26949718714796095\n",
      "Ошибка на test: 0.3553464571518126\n",
      "Степень многочлена: 4\n",
      "Коэфиценты многочлена:\n",
      "[  7.9184747  -13.05132812   6.79409178   1.17180239   4.34116612]\n",
      "Ошибка на train: 0.2610665330579276\n",
      "Ошибка на test: 0.441727018928515\n",
      "Степень многочлена: 5\n",
      "Коэфиценты многочлена:\n",
      "[ 29.52497804 -51.13148139  21.37479628   3.2747144   -0.13059804\n",
      "   4.43129781]\n",
      "Ошибка на train: 0.24998504648317546\n",
      "Ошибка на test: 0.5579732021864809\n",
      "Степень многочлена: 6\n",
      "Коэфиценты многочлена:\n",
      "[-229.97013341  581.45329822 -481.51013286  121.25709712   16.00290399\n",
      "   -4.59717932    4.38379501]\n",
      "Ошибка на train: 0.18829348988370556\n",
      "Ошибка на test: 2.581692932082296\n",
      "Степень многочлена: 7\n",
      "Коэфиценты многочлена:\n",
      "[-167.38196477  238.69936794  122.878217   -314.23117244  119.35078427\n",
      "    7.2154586    -4.00889591    4.44451271]\n",
      "Ошибка на train: 0.1853962115329454\n",
      "Ошибка на test: 2.5157828588673516\n",
      "Степень многочлена: 8\n",
      "Коэфиценты многочлена:\n",
      "[ 1.72947757e+03 -5.70171020e+03  6.76062847e+03 -3.13285640e+03\n",
      "  1.09895668e+02  2.68860440e+02 -2.66956311e+01 -5.18277353e+00\n",
      "  4.66378911e+00]\n",
      "Ошибка на train: 0.15905556579089344\n",
      "Ошибка на test: 4.357288286102086\n",
      "Степень многочлена: 9\n",
      "Коэфиценты многочлена:\n",
      "[  903.21543629 -1522.09799564 -1216.44857185  3913.26831404\n",
      " -2441.96274641   176.24540473   219.04204216   -24.26271692\n",
      "    -4.55270588     4.6458836 ]\n",
      "Ошибка на train: 0.15847184276438786\n",
      "Ошибка на test: 4.776324139276947\n",
      "Степень многочлена: 10\n",
      "Коэфиценты многочлена:\n",
      "[-9.81864507e+03  4.01777994e+04 -6.36214253e+04  4.66869836e+04\n",
      " -1.29700524e+04 -1.66081788e+03  1.20195987e+03  4.49342178e+01\n",
      " -3.61754534e+01 -2.15981459e+00  4.66917256e+00]\n",
      "Ошибка на train: 0.1531661216522875\n",
      "Ошибка на test: 14.633658466961819\n"
     ]
    },
    {
     "data": {
      "text/plain": [
       "<matplotlib.legend.Legend at 0x238ceb6dd68>"
      ]
     },
     "execution_count": 272,
     "metadata": {},
     "output_type": "execute_result"
    },
    {
     "data": {
      "image/png": "[encoded data removed]",
      "text/plain": [
       "<Figure size 720x720 with 1 Axes>"
      ]
     },
     "metadata": {
      "needs_background": "light"
     },
     "output_type": "display_data"
    }
   ],
   "source": [
    "def func(A,X):\n",
    "    sum = float(0)\n",
    "    for i in range(len(A)):\n",
    "        sum+= float(A[i])*float(X[i])\n",
    "    return sum\n",
    "\n",
    "plt.figure(figsize=(10, 10))\n",
    "plt.plot(x_train, y_train, 'go', label = \"train\")\n",
    "plt.plot(x_test, y_test, 'ro', label = \"test\")\n",
    "\n",
    "\n",
    "colors = []\n",
    "\n",
    "\n",
    "\n",
    "for k in range(1,11):\n",
    "    A = np.array([[float(1) for j in range(k+1)] for j in range(len(x_train))])\n",
    "    for j in range(len(x_train)):\n",
    "        for i in range(k-1,-1,-1):\n",
    "            A[j][i] = float(A[j][i+1]*x_train[j])\n",
    "    B = np.array([[float(1) for j in range(k+1)] for j in range(len(x_test))])\n",
    "    for j in range(len(x_test)):\n",
    "        for i in range(k-1,-1,-1):\n",
    "            B[j][i] = float(B[j][i+1]*x_test[j])\n",
    "    a = A.T.dot(A)\n",
    "    a = sla.inv(a)\n",
    "    a = a.dot(A.T)\n",
    "    a = a.dot(y_train)\n",
    "    \n",
    "    mse_train = float(0)\n",
    "    \n",
    "    for i in range(len(x_train)):\n",
    "        mse_train+=float((func(A[i],a)-float(y_train[i]))**2)\n",
    "    mse_train/=float(len(x_train))\n",
    "    \n",
    "    \n",
    "    mse_test = float(0)\n",
    "    vec_test = np.ones(len(x_test))\n",
    "    for i in range(len(x_test)):\n",
    "        mse_test+=float((func(B[i],a)-float(y_test[i]))**2)\n",
    "        vec_test[i] = func(B[i],a)\n",
    "    mse_test/=float(len(x_test))\n",
    "    \n",
    "    print(\"Степень многочлена: {}\" .format(k))\n",
    "    print(\"Коэфиценты многочлена:\")\n",
    "    print(a)\n",
    "    print(\"Ошибка на train: {}\".format(mse_train))\n",
    "    print(\"Ошибка на test: {}\".format(mse_test))\n",
    "    \n",
    "    if( (k >=1 and k<=4) or k==6):\n",
    "        plt.plot(x_test, vec_test,label = \"function {}\".format(k))\n",
    "plt.legend()"
   ]
  },
  {
   "cell_type": "code",
   "execution_count": null,
   "metadata": {},
   "outputs": [],
   "source": []
  },
  {
   "cell_type": "markdown",
   "metadata": {},
   "source": [
    "Что происходит с ошибкой при росте степени многочлена? Казалось бы, чем больше степень, тем более сложным будет многочлен и тем лучше он будет приближать нашу функцию. Подтверждают ли это ваши наблюдения? Как вам кажется, чем объясняется поведение ошибки на тестовых данных при $k = 10$?"
   ]
  },
  {
   "cell_type": "markdown",
   "metadata": {
    "collapsed": true
   },
   "source": [
    "Чем больше степень многочлена, тем более близкой становится ф-я к тренировочной выборке. Заметим тот факт, что тренировочная выборка не идеальна и несколько отличается от реальной, поэтому, когда многочлен имеет достаточно большую степень, происходит переобучение и ошибка увеличивается. "
   ]
  },
  {
   "cell_type": "markdown",
   "metadata": {},
   "source": [
    "### Задание 2. Линейная регрессия (4 балла)"
   ]
  },
  {
   "cell_type": "markdown",
   "metadata": {},
   "source": [
    "Скачайте файлы ``flats_moscow_mod.txt`` и ``flats_moscow_description.txt``. В первом из них содержатся данные о квартирах в Москве. Каждая строка содержит шесть характеристик некоторой квартиры, разделённые знаками табуляции; в первой строке записаны кодовые названия характеристик. Во втором файле приведены краткие описания признаков. Вашей задачей будет построить с помощью метода наименьших квадратов (линейную) зависимость между ценой квартиры и остальными доступными параметрами.\n",
    "\n",
    "С помощью известных вам формул найдите регрессионные коэффициенты. Какой смысл имеют их знаки? Согласуются ли они с вашими представлениями о жизни?\n",
    "\n",
    "Оцените качество приближения, вычислив среднеквадратическую ошибку."
   ]
  },
  {
   "cell_type": "code",
   "execution_count": 273,
   "metadata": {},
   "outputs": [
    {
     "name": "stdout",
     "output_type": "stream",
     "text": [
      "Коэффиценты: [ 1.55478407  1.1740233   1.7580582  -3.9168122  -1.55138246]\n",
      "MCE: 935.7887456487828\n"
     ]
    }
   ],
   "source": [
    "flats = np.loadtxt('flats_moscow_mod.txt', delimiter='\\t', skiprows = 1)\n",
    "#print(flats)\n",
    "y_flats = flats[:,0]\n",
    "#print(y_flats)\n",
    "sz = len(flats)\n",
    "x_flats = flats.T\n",
    "x_flats = x_flats[slice(1,6)]\n",
    "x_flats = x_flats.T\n",
    "#print(x_flats)\n",
    "\n",
    "a = x_flats.T.dot(x_flats)\n",
    "a = sla.inv(a)\n",
    "a = a.dot(x_flats.T)\n",
    "a = a.dot(y_flats)\n",
    "print(\"Коэффиценты: {}\".format(a))\n",
    "\n",
    "mce = float(0)\n",
    "for i in range(len(y_flats)):\n",
    "    mce += float((func(x_flats[i],a)-y_flats[i])**2)/float(len(y_flats))\n",
    "    \n",
    "print(\"MCE: {}\".format(mce))\n",
    "\n"
   ]
  },
  {
   "cell_type": "markdown",
   "metadata": {},
   "source": [
    "Для положительных коэфицентов всё очевидно, чем больше значение при положительном коэфиценте, тем больше будет цена за квартиру, для отрицательных - наоборот, чем больше значение, тем меньше цена. Модуль значения коэфицента - насколько сильно данная переменная будет влиять на цену."
   ]
  },
  {
   "cell_type": "markdown",
   "metadata": {
    "collapsed": true
   },
   "source": [
    "### Усложнение модели"
   ]
  },
  {
   "cell_type": "markdown",
   "metadata": {},
   "source": [
    "Конечно, никто не гарантирует, что объясняемая переменная (цена квартиры) зависит от остальных характеристик именно линейно. Зависимость может быть, например, квадратичной или логарифмической; больше того, могут быть важны не только отдельные признаки, но и их комбинации. Это можно учитывать, добавляя в качестве дополнительных признаков разные функции от уже имеющихся характеристик: их квадраты, логарифмы, попарные произведения.\n",
    "\n",
    "В этом задании вам нужно постараться улучшить качество модели, добавляя дополнительные признаки, являющиеся функциями от уже имеющихся. Но будьте осторожны: чрезмерное усложнение модели будет приводить к переобучению. \n",
    "\n",
    "**Сравнение моделей**\n",
    "\n",
    "Когда вы построите новую модель, вам захочется понять, лучше она или хуже, чем изначальная. Проверять это на той же выборке, на которой вы обучались, бессмысленно и даже вредно (вспомните пример с многочленами: как прекрасно падала ошибка на обучающей выборке с ростом степени!). Поэтому вам нужно будет разделить выборку на обучающую и тестовую. Делать это лучше случайным образом (ведь вы не знаете, как создатели датасета упорядочили объекты); рекомендуем вам для этого функцию `sklearn.model_selection.train_test_split`."
   ]
  },
  {
   "cell_type": "code",
   "execution_count": 379,
   "metadata": {},
   "outputs": [
    {
     "name": "stdout",
     "output_type": "stream",
     "text": [
      "MCE: 797.5493558083946\n"
     ]
    }
   ],
   "source": [
    "from sklearn import model_selection\n",
    "import random\n",
    "from math import atan\n",
    "def prod(A):\n",
    "    product = float(1)\n",
    "    for i in range(len(A)):\n",
    "        product*=float(A[i])\n",
    "    return product\n",
    "def func2(A,X):\n",
    "    sum = float(0)\n",
    "    for i in range(len(A)):\n",
    "        sum+= float(A[i])*float(X[i])\n",
    "    return sum\n",
    "\n",
    "\n",
    "def MCE(R):\n",
    "    result = float(0)\n",
    "    for k in range (100): \n",
    "        x_train, x_test, y_train, y_test = sklearn.model_selection.train_test_split(x_flats, y_flats)\n",
    "\n",
    "        #modify here\n",
    "        q = []\n",
    "        w = []\n",
    "\n",
    "        for i in range(len(x_train)):\n",
    "            new = []\n",
    "            #new2 = []\n",
    "            for j in range (len(x_train[i])):\n",
    "                new.append(x_train[i][j]**R[j])\n",
    "                #new2.append(x_test[i][j])\n",
    "            new.append((float(x_train[i][1])**2 / x_train[i][0])**R[5])\n",
    "            new.append((float(x_train[i][0])**2 / x_train[i][3])**R[6])\n",
    "            new.append((float(x_train[i][0])**2 / x_train[i][4])**R[7])\n",
    "            new.append(np.log(prod(new)))\n",
    "            q.append(new)\n",
    "            \n",
    "            #w.append(new2)\n",
    "\n",
    "        for i in range(len(x_test)):\n",
    "            #new = []\n",
    "            new2 = []\n",
    "            for j in range (len(x_test[i])):\n",
    "                    new2.append(x_test[i][j]**R[j])\n",
    "            new2.append((float(x_test[i][1])**2 / x_test[i][0])**R[5])\n",
    "            new2.append((float(x_test[i][0])**2 / x_test[i][3])**R[6])\n",
    "            new2.append((float(x_test[i][0])**2 / x_test[i][4])**R[7])\n",
    "            new2.append(np.log(prod(new2)))\n",
    "            #q.append(new)\n",
    "            w.append(new2)\n",
    "\n",
    "        x_train = np.array(q)\n",
    "        x_test = np.array(w)\n",
    "        #print(x_train)\n",
    "\n",
    "\n",
    "\n",
    "        a = x_train.T.dot(x_train)\n",
    "        a = sla.inv(a)\n",
    "        a = a.dot(x_train.T)\n",
    "        a = a.dot(y_train)\n",
    "        mce = float(0)\n",
    "        for i in range(len(y_test)):\n",
    "            mce += float((func2(x_test[i],a)-y_test[i])**2)/float(len(y_test))\n",
    "\n",
    "        result+=mce/float(100)\n",
    "    return result\n",
    "    #print(\"MCE: {}\".format(result))\n",
    "\n",
    "min_res = 10000\n",
    "for i in range(100):\n",
    "    \n",
    "    X = [(random.random()*6) for j in range(9)]\n",
    "    for j in range(5,9):\n",
    "        X[j] = random.random()*2\n",
    "    X[0] = random.random()*2\n",
    "    X[1] = random.random()*2\n",
    "    X[2] = random.random()\n",
    "    cur = MCE(X)\n",
    "    if(cur<min_res):\n",
    "        min_res = cur\n",
    "print(\"MCE: {}\".format(min_res))\n"
   ]
  },
  {
   "cell_type": "markdown",
   "metadata": {},
   "source": [
    "### Задание 3. Регуляризация (2 балла)"
   ]
  },
  {
   "cell_type": "markdown",
   "metadata": {},
   "source": [
    "Вспомним, что задача линейной регрессии формулируется как задача нахождения проекции вектора значений объясняемой переменной $y$ на линейную оболочку $\\langle x_1,\\ldots,x_k\\rangle$ векторов значений регрессоров. Если векторы $x_1,\\ldots,x_k$ линейно зависимы, то матрица $X^TX$ вырожденна и задача не будет решаться (то есть будет, но не с помощью приведённой выше формулы). В жизни, по счастью, различные признаки редко бывают *в точности* линейно зависимы, однако во многих ситуациях они скоррелированы и становятся \"почти\" линейно зависимыми. Таковы, к примеру, зарплата человека, его уровень образования, цена машины и суммарная площадь недвижимости, которой он владеет. В этом случае матрица $X^TX$ будет близка к вырожденной, и это приводит к численной неустойчивости и плохому качеству решений; как следствие, будет иметь место переобучение. Один из симптомов этой проблемы &mdash; необычно большие по модулю компоненты вектора $a$.\n",
    "\n",
    "Есть много способов борьбы с этим злом. Один из них &mdash; регуляризация. Сейчас мы рассмотрим одну из её разновидностей &mdash; **L2-регуляризацию**. Идея в том, чтобы подправить матрицу $X^TX$, сделав её \"получше\". Например, это можно сделать, заменив её на $(X^TX + \\lambda E)$, где $\\lambda$ &mdash; некоторый скаляр. Пожертвовав точностью на обучающей выборке, мы тем не менее получаем численно более стабильное псевдорешение $a = (X^TX + \\lambda E)^{-1}X^Ty$ и снижаем эффект переобучения. Параметр $\\lambda$ нужно подбирать, и каких-то универсальных способов это делать нет, но зачастую можно его подобрать таким, чтобы ошибка на тестовой выборке падала. "
   ]
  },
  {
   "cell_type": "markdown",
   "metadata": {},
   "source": [
    "Теперь давайте вспомним первую задачу. Если вы её сделали, то помните, что ошибка аппроксимации многочленом шестой степени довольно высокая. Убедитесь, что, используя регуляризацию с хорошо подобранным коэффициентом $\\lambda$, ошибку на тестовой выборке можно сделать не больше, чем для многочлена оптимальной степени в модели без регрессии. Для этого $\\lambda$ сравните $\\det(X^TX)$ и $\\det(X^TX + \\lambda E)$."
   ]
  },
  {
   "cell_type": "code",
   "execution_count": 378,
   "metadata": {},
   "outputs": [
    {
     "name": "stdout",
     "output_type": "stream",
     "text": [
      "Коэфиценты многочлена:\n",
      "[-229.97013341  581.45329822 -481.51013286  121.25709712   16.00290399\n",
      "   -4.59717932    4.38379501]\n",
      "Ошибка на test: 2.581692932082296\n",
      "lambda = 1.1575726557727872\n",
      "Ошибка на test у lambda = 0.30734408984090733\n",
      "Определитель X.T.dot(X) = 9.082864838914274e-12\n",
      "Определитель X.T.dot(X)+lambdaE = 1010.7930189318372\n"
     ]
    },
    {
     "data": {
      "text/plain": [
       "<matplotlib.legend.Legend at 0x238d06e72e8>"
      ]
     },
     "execution_count": 378,
     "metadata": {},
     "output_type": "execute_result"
    },
    {
     "data": {
      "image/png": "[encoded data removed]",
      "text/plain": [
       "<Figure size 432x288 with 1 Axes>"
      ]
     },
     "metadata": {
      "needs_background": "light"
     },
     "output_type": "display_data"
    }
   ],
   "source": [
    "for k in range(6,7):\n",
    "    A = np.array([[float(1) for j in range(k+1)] for j in range(len(x_train))])\n",
    "    for j in range(len(x_train)):\n",
    "        for i in range(k-1,-1,-1):\n",
    "            A[j][i] = float(A[j][i+1]*x_train[j])\n",
    "    B = np.array([[float(1) for j in range(k+1)] for j in range(len(x_test))])\n",
    "    for j in range(len(x_test)):\n",
    "        for i in range(k-1,-1,-1):\n",
    "            B[j][i] = float(B[j][i+1]*x_test[j])\n",
    "    a = A.T.dot(A)\n",
    "    b = a\n",
    "    a = sla.inv(a)\n",
    "    a = a.dot(A.T)\n",
    "    a = a.dot(y_train)\n",
    "    \n",
    "    mse_train = float(0)\n",
    "    \n",
    "    for i in range(len(x_train)):\n",
    "        mse_train+=float((func(A[i],a)-float(y_train[i]))**2)\n",
    "    mse_train/=float(len(x_train))\n",
    "    \n",
    "    \n",
    "    mse_test = float(0)\n",
    "    vec_test = np.ones(len(x_test))\n",
    "    for i in range(len(x_test)):\n",
    "        mse_test+=float((func(B[i],a)-float(y_test[i]))**2)\n",
    "        vec_test[i] = func(B[i],a)\n",
    "    mse_test/=float(len(x_test))\n",
    "    \n",
    "    mse_min = float(1000)\n",
    "    vec_min = []\n",
    "    l_min = 0\n",
    "    for j in range(10000):\n",
    "        l = random.random() * 2\n",
    "        c = b + l*(np.eye(len(b[0])))\n",
    "        c = sla.inv(c)\n",
    "        c = c.dot(A.T)\n",
    "        c = c.dot(y_train)\n",
    "        \n",
    "        mse_cur_test = float(0)\n",
    "        vec_cur_test = np.ones(len(x_test))\n",
    "        for i in range(len(x_test)):\n",
    "            mse_cur_test+=float((func(B[i],c)-float(y_test[i]))**2)\n",
    "            vec_cur_test[i] = func(B[i],c)\n",
    "        mse_cur_test/=float(len(x_test))\n",
    "        \n",
    "        if(mse_cur_test<mse_min):\n",
    "            mse_min = mse_cur_test\n",
    "            vec_min = vec_cur_test\n",
    "            l_min = l\n",
    "        \n",
    "        \n",
    "        \n",
    "    \n",
    "    print(\"Коэфиценты многочлена:\")\n",
    "    print(a)\n",
    "    print(\"Ошибка на test: {}\".format(mse_test))\n",
    "    \n",
    "    plt.plot(x_test, vec_test,label = \"function {} default\".format(k))\n",
    "    \n",
    "    print(\"lambda = {}\".format(l_min))\n",
    "    print(\"Ошибка на test у lambda = {}\".format(mse_min))\n",
    "    plt.plot(x_test, vec_min,label = \"function {} lambda\".format(k))\n",
    "    \n",
    "    print(\"Определитель X.T.dot(X) = {}\".format(sla.det(b)))\n",
    "    print(\"Определитель X.T.dot(X)+lambdaE = {}\".format(sla.det(b+l_min*np.eye(len(b[0])))))\n",
    "    \n",
    "plt.legend()"
   ]
  },
  {
   "cell_type": "markdown",
   "metadata": {},
   "source": [
    "Нарисуйте на одном чертеже графики многочленов шестой степени, приближающих неизвестную функцию, для модели с регуляризацией и без. Чем первый из них выгодно отличается от второго?"
   ]
  },
  {
   "cell_type": "markdown",
   "metadata": {
    "collapsed": true
   },
   "source": [
    "Нарисовано выше. Так как ф-я для модели с регуляризацией менее колеблющаяся, а значет меньше страдает от шумов в тренировочной выборке => лучше приближает ответ на тестовой."
   ]
  },
  {
   "cell_type": "markdown",
   "metadata": {},
   "source": [
    "Попробуйте доказать, что вектор $a = (X^TX + \\lambda E)^{-1}X^Ty$ является решением задачи\n",
    "\n",
    "$$|Xa - y|^2 + \\lambda|a|^2\\rightarrow\\min$$\n",
    "\n",
    "Интуитивно это можно понимать так: мы ищем компромисс между минимизацией длины разности $|Xa - y|$ (то есть точностью решения задачи регрессии) и тем, чтобы компоненты вектора $a$ не становились слишком большими по модулю.\n",
    "\n",
    "---\n",
    "\n",
    "**Ваше решение напишите прямо здесь**"
   ]
  },
  {
   "cell_type": "markdown",
   "metadata": {},
   "source": [
    "### Задание 4. Онлайн-обучение линейной регрессии (3 балла)"
   ]
  },
  {
   "cell_type": "markdown",
   "metadata": {},
   "source": [
    "Раньше мы работали в ситуации, когда объекты $x_i$ и значения $y_i$ даны с самого начала и всегда доступны. Допустим теперь, что пары $(x_i, y_i)$ поступают к нам по одной и мы не можем себе позволить хранить их все в памяти (это может быть актуально, например, если вы пытаетесь обучить модель на устройстве со сравнительно небольшим количеством оперативной памяти: скажем, на мобильном телефоне или на бортовом компьютере спутника связи). В этом случае нам нужно уметь решать следующую задачу:\n",
    "\n",
    "**Известно:** решение задачи регрессии для датасета $(x_1, y_1),\\ldots,(x_t,y_t)$;\n",
    "\n",
    "**На вход поступает:** новая пара $(x_{t+1}, y_{t+1})$;\n",
    "\n",
    "**Требуется:** быстро (за время, не зависящее от $t$) отыскать решение задачи регрессии для расширенного датасета $(x_1, y_1),\\ldots,(x_t,y_t),(x_{t+1}, y_{t+1})$."
   ]
  },
  {
   "cell_type": "markdown",
   "metadata": {},
   "source": [
    "Эту задачу мы будем решать в два этапа.\n",
    "\n",
    "**Этап 1.** Введём обозначения $X_{(t)} = (x_1\\ldots x_t)$ и $y_{(t)} = (y_1,\\ldots,y_t)^T$. Тогда, как мы хорошо помним, решение задачи регрессии для датасета $(x_1, y_1),\\ldots,(x_t,y_t)$ имеет вид $\\hat{a}_{(t)} = \\left(X^T_{(t)}X_{(t)}\\right)^{-1}X^T_{(t)}y_{(t)}$. Размеры матриц $X^T_{(t)}X_{(t)}$ и $X^T_{(t)}y_{(t)}$ не зависят от $t$, поэтому их мы, пожалуй, можем себе позволить хранить в памяти.\n",
    "\n",
    "И вот ваше первое задание в этом разделе: придумайте алгоритм, принимающий на вход матрицы $X^T_{(t)}X_{(t)}$ и $X^T_{(t)}y_{(t)}$, а также пару $(x_{t+1}, y_{t+1})$ и вычисляющий матрицы $X^T_{(t+1)}X_{(t+1)}$ и $X^T_{(t+1)}y_{(t+1)}$. Сложность вашего алгоритма не должна зависеть от $t$!\n",
    "\n",
    "\n",
    "Для того, что изменить матрицу A = X.T.dot(X), необходимо к A[i,j] добавить $x_{t+1}[i] * x_{t+1}[j]$. Пусть матрица X имеет размер m x n, тогда A имеет размер n x n, где n - ширина матрицы, остается константной, вне зависимости от кол-ва добавленных признаков. Итого программа работает за $O(n^2) = O(C)$. Корректность данного алгоритма следует из свойств перемножения матриц. Для матрицы B = X.T.dot(y) сделаем следующее. К B[i](матрица представляет собой вектор-строку) прибавим $x_{t+1}[i]y_{t+1}$. Доказательство корректности и времени работы аналогичны предыдущему. "
   ]
  },
  {
   "cell_type": "markdown",
   "metadata": {},
   "source": [
    "**Этап 2.** Теперь настало время написать немного кода и порисовать красивые картинки. Вам нужно будет реализовать симуляцию онлайн-обучения регрессии для задачи приближения функции (в данном случае $f_{true}(x) = 2x\\sin(x) + x^2 - 1$; все значения искажены небольшим нормальным шумом) многочленом степени не выше 5."
   ]
  },
  {
   "cell_type": "code",
   "execution_count": 387,
   "metadata": {},
   "outputs": [
    {
     "data": {
      "image/png": "[encoded data removed]",
      "text/plain": [
       "<Figure size 432x288 with 1 Axes>"
      ]
     },
     "metadata": {
      "needs_background": "light"
     },
     "output_type": "display_data"
    }
   ],
   "source": [
    "from IPython.display import clear_output\n",
    "\n",
    "f_true = lambda x: 2*x*np.sin(5*x) + x**2 - 1 # this is the true function\n",
    "\n",
    "# We need this to make the plot of f_true:\n",
    "x_grid = np.linspace(-2,5,100) # 100 linearly spaced numbers\n",
    "x_grid_enl = np.hstack((x_grid.reshape((100,1))**j for j in range(6)))\n",
    "y_grid = f_true(x_grid)\n",
    "#преобразуем в столбец\n",
    "y_grid = np.reshape(y_grid,(len(y_grid),1))\n",
    "A = x_grid_enl.T.dot(x_grid_enl)\n",
    "B = x_grid_enl.T.dot(y_grid)\n",
    "\n",
    "\n",
    "for i in range(200):\n",
    "\n",
    "    x_new = np.random.uniform(-2, 5)\n",
    "    y_new = f_true(x_new) + 2*np.random.randn()\n",
    "    new_vec = [(1) for j in range(6)]\n",
    "    new_vec[1] = x_new\n",
    "    \n",
    "    #new_vec = np.array(new_vec)\n",
    "    for j in range(2,6):\n",
    "        new_vec[j] = float(new_vec[j-1]*x_new)\n",
    "    #print(x_new)\n",
    "    #print(new_vec)\n",
    "    for j in range(6):\n",
    "        for k in range(6):\n",
    "            A[j][k]+= float(new_vec[k]*new_vec[j])\n",
    "    for j in range(6):\n",
    "        B[j][0] += float(y_new*new_vec[j])\n",
    "    c = sla.inv(A).dot(B)\n",
    "    y_pred = x_grid_enl.dot(c)\n",
    "    if (i+1)%5==0:\n",
    "        clear_output(True)\n",
    "        plt.plot(x_grid,y_grid, color='blue', label='true f')\n",
    "        plt.scatter(x_new, y_new, color='red')\n",
    "        plt.scatter(x_grid, y_pred, color='orange', linewidth=5, label='predicted f')\n",
    "        plt.legend(loc='upper left')\n",
    "        plt.show()"
   ]
  },
  {
   "cell_type": "markdown",
   "metadata": {},
   "source": [
    "### Добавление. QR-разложение"
   ]
  },
  {
   "cell_type": "markdown",
   "metadata": {},
   "source": [
    "**QR-разложением** матрицы $A$ (не обязательно квадратной) мы будем называть её представление в виде $A = QR$, где $Q$ &mdash; матрица с ортонормированными столбцами, а $R$ &mdash; верхнетреугольная матрица.\n",
    "\n",
    "Смысл QR-разложения следующий. Пусть $a_1,\\ldots,a_m$ &mdash; столбцы матрицы $A$, $q_1,\\ldots,q_t$ &mdash; столбцы матрицы $Q$. Тогда $q_1,\\ldots,q_t$ &mdash; это ортонормированный базис в подпространстве, являющемся линейной оболочкой векторов $a_1,\\ldots,a_m$, а в матрице $R$ записаны коэффициенты, с помощью которых $a_i$ выражаются через $q_1,\\ldots,q_t$.\n",
    "\n",
    "Находить QR-разложение заданной матрицы можно разными способами. Мы познакомим вас не с самым лучшим из них, но по крайней мере с наиболее простым концептуально. Заметим, что ортогональный базис линейной оболочки можно найти с помощью ортогонализации Грама-Шмидта. При этом коэффициенты из матрицы $R$ получаются в качестве побочного продукта этого процесса:\n",
    "\n",
    "```python\n",
    "for j = 1...n:\n",
    "    q_j = a_j\n",
    "    for i = 1,...,j-1:\n",
    "        r_ij = (q_i, a_j)\n",
    "        q_j = q_j - r_ij * q_i\n",
    "    r_jj = |q_j|\n",
    "    if r_jj == 0: # a_j in <a_1,...,a_j-1>\n",
    "        # выбросим линейно зависимый(мой коммент)\n",
    "        # What would you do in this case?..\n",
    "    q_j = q_j / r_jj\n",
    "```\n",
    "\n",
    "Для нахождения QR-разложения вы можете использовать библиотечную функцию `scipy.linalg.qr`."
   ]
  },
  {
   "cell_type": "markdown",
   "metadata": {},
   "source": [
    "Поскольку лабораторная про линейную регрессию, не так-то просто замять вопрос о том, какое же отношение QR-разложение имеет к задаче регрессии. Упомянем одно из возможных применений.\n",
    "\n",
    "Допустим, мы нашли QR-разложение матрицы $X$, а именно: $X = QR$. Тогда\n",
    "$$X^TX = (QR)^T(QR) = R^TQ^TQR = R^TR$$"
   ]
  },
  {
   "cell_type": "markdown",
   "metadata": {},
   "source": [
    "Поскольку в задаче регрессии матрица $X$ обычного полного ранга (то есть её столбцы линейно независимы), матрица $R$ будет квадратной. Благодаря этому нашу обычную формулу для набора регрессионных коэффициентов $\\hat{a}$ можно переписать в следующем виде:\n",
    "\n",
    "$$\\hat{a} = (X^TX)^{-1}X^Ty = (R^TR)^{-1}(QR)^Ty = R^{-1}(R^T)^{-1}R^TQ^Ty = R^{-1}Q^Ty$$\n",
    "\n",
    "Как видите, формула стала проще. Более того, зачастую обращение матрицы $R$ может быть численно более устойчиво, чем обращение матрицы $X^TX$."
   ]
  }
 ],
 "metadata": {
  "kernelspec": {
   "display_name": "Python 3",
   "language": "python",
   "name": "python3"
  },
  "language_info": {
   "codemirror_mode": {
    "name": "ipython",
    "version": 3
   },
   "file_extension": ".py",
   "mimetype": "text/x-python",
   "name": "python",
   "nbconvert_exporter": "python",
   "pygments_lexer": "ipython3",
   "version": "3.7.3"
  }
 },
 "nbformat": 4,
 "nbformat_minor": 1
}
